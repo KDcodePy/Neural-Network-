{
 "cells": [
  {
   "cell_type": "markdown",
   "id": "4cb66152",
   "metadata": {},
   "source": [
    "## Imports "
   ]
  },
  {
   "cell_type": "code",
   "execution_count": 27,
   "id": "edfc2453",
   "metadata": {},
   "outputs": [],
   "source": [
    "import sys\n",
    "import os"
   ]
  },
  {
   "cell_type": "code",
   "execution_count": 36,
   "id": "160f88b5",
   "metadata": {},
   "outputs": [],
   "source": [
    "from pip._internal.operations import freeze"
   ]
  },
  {
   "cell_type": "code",
   "execution_count": 29,
   "id": "32956feb",
   "metadata": {},
   "outputs": [
    {
     "name": "stdout",
     "output_type": "stream",
     "text": [
      "['C:\\\\Users\\\\kdelfino\\\\Documents\\\\GitHub\\\\Neural_network', 'C:\\\\Users\\\\kdelfino\\\\anaconda3\\\\envs\\\\dojo-env\\\\python39.zip', 'C:\\\\Users\\\\kdelfino\\\\anaconda3\\\\envs\\\\dojo-env\\\\DLLs', 'C:\\\\Users\\\\kdelfino\\\\anaconda3\\\\envs\\\\dojo-env\\\\lib', 'C:\\\\Users\\\\kdelfino\\\\anaconda3\\\\envs\\\\dojo-env', '', 'C:\\\\Users\\\\kdelfino\\\\anaconda3\\\\envs\\\\dojo-env\\\\lib\\\\site-packages', 'C:\\\\Users\\\\kdelfino\\\\anaconda3\\\\envs\\\\dojo-env\\\\lib\\\\site-packages\\\\win32', 'C:\\\\Users\\\\kdelfino\\\\anaconda3\\\\envs\\\\dojo-env\\\\lib\\\\site-packages\\\\win32\\\\lib', 'C:\\\\Users\\\\kdelfino\\\\anaconda3\\\\envs\\\\dojo-env\\\\lib\\\\site-packages\\\\Pythonwin']\n"
     ]
    }
   ],
   "source": [
    "print(sys.path)"
   ]
  },
  {
   "cell_type": "raw",
   "id": "8c6732aa",
   "metadata": {},
   "source": [
    "print"
   ]
  },
  {
   "cell_type": "code",
   "execution_count": 31,
   "id": "e99bcee7",
   "metadata": {},
   "outputs": [
    {
     "name": "stdout",
     "output_type": "stream",
     "text": [
      "3.9.15 | packaged by conda-forge | (main, Nov 22 2022, 08:39:05) [MSC v.1929 64 bit (AMD64)]\n"
     ]
    }
   ],
   "source": [
    "print(sys.version)"
   ]
  },
  {
   "cell_type": "code",
   "execution_count": 33,
   "id": "b72a69a6",
   "metadata": {},
   "outputs": [
    {
     "name": "stdout",
     "output_type": "stream",
     "text": [
      "sys.version_info(major=3, minor=9, micro=15, releaselevel='final', serial=0)\n"
     ]
    }
   ],
   "source": [
    "print(sys.version_info)"
   ]
  },
  {
   "cell_type": "code",
   "execution_count": 30,
   "id": "9d244e96",
   "metadata": {},
   "outputs": [
    {
     "name": "stdout",
     "output_type": "stream",
     "text": [
      "['c:\\\\Users\\\\kdelfino\\\\Documents\\\\GitHub\\\\Neural_network', 'c:\\\\Users\\\\kdelfino\\\\anaconda3\\\\envs\\\\dojo-env\\\\python39.zip', 'c:\\\\Users\\\\kdelfino\\\\anaconda3\\\\envs\\\\dojo-env\\\\DLLs', 'c:\\\\Users\\\\kdelfino\\\\anaconda3\\\\envs\\\\dojo-env\\\\lib', 'c:\\\\Users\\\\kdelfino\\\\anaconda3\\\\envs\\\\dojo-env', '', 'c:\\\\Users\\\\kdelfino\\\\anaconda3\\\\envs\\\\dojo-env\\\\lib\\\\site-packages', 'c:\\\\Users\\\\kdelfino\\\\anaconda3\\\\envs\\\\dojo-env\\\\lib\\\\site-packages\\\\win32', 'c:\\\\Users\\\\kdelfino\\\\anaconda3\\\\envs\\\\dojo-env\\\\lib\\\\site-packages\\\\win32\\\\lib', 'c:\\\\Users\\\\kdelfino\\\\anaconda3\\\\envs\\\\dojo-env\\\\lib\\\\site-packages\\\\Pythonwin']\n"
     ]
    }
   ],
   "source": [
    "print(['c:\\\\Users\\\\kdelfino\\\\Documents\\\\GitHub\\\\Neural_network', 'c:\\\\Users\\\\kdelfino\\\\anaconda3\\\\envs\\\\dojo-env\\\\python39.zip', 'c:\\\\Users\\\\kdelfino\\\\anaconda3\\\\envs\\\\dojo-env\\\\DLLs', 'c:\\\\Users\\\\kdelfino\\\\anaconda3\\\\envs\\\\dojo-env\\\\lib', 'c:\\\\Users\\\\kdelfino\\\\anaconda3\\\\envs\\\\dojo-env', '', 'c:\\\\Users\\\\kdelfino\\\\anaconda3\\\\envs\\\\dojo-env\\\\lib\\\\site-packages', 'c:\\\\Users\\\\kdelfino\\\\anaconda3\\\\envs\\\\dojo-env\\\\lib\\\\site-packages\\\\win32', 'c:\\\\Users\\\\kdelfino\\\\anaconda3\\\\envs\\\\dojo-env\\\\lib\\\\site-packages\\\\win32\\\\lib', 'c:\\\\Users\\\\kdelfino\\\\anaconda3\\\\envs\\\\dojo-env\\\\lib\\\\site-packages\\\\Pythonwin'])"
   ]
  },
  {
   "cell_type": "code",
   "execution_count": 17,
   "id": "40ffcd08",
   "metadata": {},
   "outputs": [],
   "source": [
    "# Imports\n",
    "import numpy as np\n",
    "import matplotlib.pyplot as plt\n",
    "import pandas as pd\n",
    "from sklearn.preprocessing import StandardScaler\n",
    "from sklearn.model_selection import train_test_split\n",
    "from tensorflow.keras.models import Sequential\n",
    "from tensorflow.keras.layers import Dense"
   ]
  },
  {
   "cell_type": "code",
   "execution_count": 24,
   "id": "98d68adf",
   "metadata": {},
   "outputs": [],
   "source": [
    "model = Sequential()"
   ]
  },
  {
   "cell_type": "code",
   "execution_count": 26,
   "id": "257f8bc0",
   "metadata": {},
   "outputs": [],
   "source": [
    "model.add(Dense(1, activation= 'relu'))"
   ]
  },
  {
   "cell_type": "markdown",
   "id": "c3489362",
   "metadata": {},
   "source": [
    "## Load Data"
   ]
  },
  {
   "cell_type": "code",
   "execution_count": 18,
   "id": "9013884a",
   "metadata": {},
   "outputs": [],
   "source": [
    "path = r\"C:\\Users\\kdelfino\\Documents\\GitHub\\Neural_network\\train.csv\""
   ]
  },
  {
   "cell_type": "code",
   "execution_count": 19,
   "id": "9d6f5ef6",
   "metadata": {},
   "outputs": [],
   "source": [
    "df = pd.read_csv(path)"
   ]
  },
  {
   "cell_type": "markdown",
   "id": "9c7ed3c5",
   "metadata": {},
   "source": [
    "## Exploratory Data Analysis"
   ]
  },
  {
   "cell_type": "code",
   "execution_count": 20,
   "id": "a81721a8",
   "metadata": {},
   "outputs": [
    {
     "name": "stdout",
     "output_type": "stream",
     "text": [
      "<class 'pandas.core.frame.DataFrame'>\n",
      "RangeIndex: 1460 entries, 0 to 1459\n",
      "Data columns (total 81 columns):\n",
      " #   Column         Non-Null Count  Dtype  \n",
      "---  ------         --------------  -----  \n",
      " 0   Id             1460 non-null   int64  \n",
      " 1   MSSubClass     1460 non-null   int64  \n",
      " 2   MSZoning       1460 non-null   object \n",
      " 3   LotFrontage    1201 non-null   float64\n",
      " 4   LotArea        1460 non-null   int64  \n",
      " 5   Street         1460 non-null   object \n",
      " 6   Alley          91 non-null     object \n",
      " 7   LotShape       1460 non-null   object \n",
      " 8   LandContour    1460 non-null   object \n",
      " 9   Utilities      1460 non-null   object \n",
      " 10  LotConfig      1460 non-null   object \n",
      " 11  LandSlope      1460 non-null   object \n",
      " 12  Neighborhood   1460 non-null   object \n",
      " 13  Condition1     1460 non-null   object \n",
      " 14  Condition2     1460 non-null   object \n",
      " 15  BldgType       1460 non-null   object \n",
      " 16  HouseStyle     1460 non-null   object \n",
      " 17  OverallQual    1460 non-null   int64  \n",
      " 18  OverallCond    1460 non-null   int64  \n",
      " 19  YearBuilt      1460 non-null   int64  \n",
      " 20  YearRemodAdd   1460 non-null   int64  \n",
      " 21  RoofStyle      1460 non-null   object \n",
      " 22  RoofMatl       1460 non-null   object \n",
      " 23  Exterior1st    1460 non-null   object \n",
      " 24  Exterior2nd    1460 non-null   object \n",
      " 25  MasVnrType     1452 non-null   object \n",
      " 26  MasVnrArea     1452 non-null   float64\n",
      " 27  ExterQual      1460 non-null   object \n",
      " 28  ExterCond      1460 non-null   object \n",
      " 29  Foundation     1460 non-null   object \n",
      " 30  BsmtQual       1423 non-null   object \n",
      " 31  BsmtCond       1423 non-null   object \n",
      " 32  BsmtExposure   1422 non-null   object \n",
      " 33  BsmtFinType1   1423 non-null   object \n",
      " 34  BsmtFinSF1     1460 non-null   int64  \n",
      " 35  BsmtFinType2   1422 non-null   object \n",
      " 36  BsmtFinSF2     1460 non-null   int64  \n",
      " 37  BsmtUnfSF      1460 non-null   int64  \n",
      " 38  TotalBsmtSF    1460 non-null   int64  \n",
      " 39  Heating        1460 non-null   object \n",
      " 40  HeatingQC      1460 non-null   object \n",
      " 41  CentralAir     1460 non-null   object \n",
      " 42  Electrical     1459 non-null   object \n",
      " 43  1stFlrSF       1460 non-null   int64  \n",
      " 44  2ndFlrSF       1460 non-null   int64  \n",
      " 45  LowQualFinSF   1460 non-null   int64  \n",
      " 46  GrLivArea      1460 non-null   int64  \n",
      " 47  BsmtFullBath   1460 non-null   int64  \n",
      " 48  BsmtHalfBath   1460 non-null   int64  \n",
      " 49  FullBath       1460 non-null   int64  \n",
      " 50  HalfBath       1460 non-null   int64  \n",
      " 51  BedroomAbvGr   1460 non-null   int64  \n",
      " 52  KitchenAbvGr   1460 non-null   int64  \n",
      " 53  KitchenQual    1460 non-null   object \n",
      " 54  TotRmsAbvGrd   1460 non-null   int64  \n",
      " 55  Functional     1460 non-null   object \n",
      " 56  Fireplaces     1460 non-null   int64  \n",
      " 57  FireplaceQu    770 non-null    object \n",
      " 58  GarageType     1379 non-null   object \n",
      " 59  GarageYrBlt    1379 non-null   float64\n",
      " 60  GarageFinish   1379 non-null   object \n",
      " 61  GarageCars     1460 non-null   int64  \n",
      " 62  GarageArea     1460 non-null   int64  \n",
      " 63  GarageQual     1379 non-null   object \n",
      " 64  GarageCond     1379 non-null   object \n",
      " 65  PavedDrive     1460 non-null   object \n",
      " 66  WoodDeckSF     1460 non-null   int64  \n",
      " 67  OpenPorchSF    1460 non-null   int64  \n",
      " 68  EnclosedPorch  1460 non-null   int64  \n",
      " 69  3SsnPorch      1460 non-null   int64  \n",
      " 70  ScreenPorch    1460 non-null   int64  \n",
      " 71  PoolArea       1460 non-null   int64  \n",
      " 72  PoolQC         7 non-null      object \n",
      " 73  Fence          281 non-null    object \n",
      " 74  MiscFeature    54 non-null     object \n",
      " 75  MiscVal        1460 non-null   int64  \n",
      " 76  MoSold         1460 non-null   int64  \n",
      " 77  YrSold         1460 non-null   int64  \n",
      " 78  SaleType       1460 non-null   object \n",
      " 79  SaleCondition  1460 non-null   object \n",
      " 80  SalePrice      1460 non-null   int64  \n",
      "dtypes: float64(3), int64(35), object(43)\n",
      "memory usage: 924.0+ KB\n"
     ]
    }
   ],
   "source": [
    "df.info()"
   ]
  },
  {
   "cell_type": "code",
   "execution_count": 21,
   "id": "56b8d764",
   "metadata": {},
   "outputs": [],
   "source": [
    "df.drop(columns=['Id','Alley','MSSubClass','GarageQual','3SsnPorch',\n",
    "                 'ScreenPorch','MiscFeature','MiscVal','LandSlope',\n",
    "                 'Utilities','BsmtQual','1stFlrSF','2ndFlrSF',\n",
    "                 'GarageArea','GarageQual',\"PoolQC\"],axis=1,inplace=True)"
   ]
  },
  {
   "cell_type": "markdown",
   "id": "d7d04eb1",
   "metadata": {},
   "source": [
    " - Dropped columns that are redundant in our datasets for ex. `GarageArea` already in `GarageCars`, etc.\n",
    " "
   ]
  },
  {
   "cell_type": "code",
   "execution_count": 22,
   "id": "8975af32",
   "metadata": {},
   "outputs": [
    {
     "name": "stdout",
     "output_type": "stream",
     "text": [
      "<class 'pandas.core.frame.DataFrame'>\n",
      "RangeIndex: 1460 entries, 0 to 1459\n",
      "Data columns (total 66 columns):\n",
      " #   Column         Non-Null Count  Dtype  \n",
      "---  ------         --------------  -----  \n",
      " 0   MSZoning       1460 non-null   object \n",
      " 1   LotFrontage    1201 non-null   float64\n",
      " 2   LotArea        1460 non-null   int64  \n",
      " 3   Street         1460 non-null   object \n",
      " 4   LotShape       1460 non-null   object \n",
      " 5   LandContour    1460 non-null   object \n",
      " 6   LotConfig      1460 non-null   object \n",
      " 7   Neighborhood   1460 non-null   object \n",
      " 8   Condition1     1460 non-null   object \n",
      " 9   Condition2     1460 non-null   object \n",
      " 10  BldgType       1460 non-null   object \n",
      " 11  HouseStyle     1460 non-null   object \n",
      " 12  OverallQual    1460 non-null   int64  \n",
      " 13  OverallCond    1460 non-null   int64  \n",
      " 14  YearBuilt      1460 non-null   int64  \n",
      " 15  YearRemodAdd   1460 non-null   int64  \n",
      " 16  RoofStyle      1460 non-null   object \n",
      " 17  RoofMatl       1460 non-null   object \n",
      " 18  Exterior1st    1460 non-null   object \n",
      " 19  Exterior2nd    1460 non-null   object \n",
      " 20  MasVnrType     1452 non-null   object \n",
      " 21  MasVnrArea     1452 non-null   float64\n",
      " 22  ExterQual      1460 non-null   object \n",
      " 23  ExterCond      1460 non-null   object \n",
      " 24  Foundation     1460 non-null   object \n",
      " 25  BsmtCond       1423 non-null   object \n",
      " 26  BsmtExposure   1422 non-null   object \n",
      " 27  BsmtFinType1   1423 non-null   object \n",
      " 28  BsmtFinSF1     1460 non-null   int64  \n",
      " 29  BsmtFinType2   1422 non-null   object \n",
      " 30  BsmtFinSF2     1460 non-null   int64  \n",
      " 31  BsmtUnfSF      1460 non-null   int64  \n",
      " 32  TotalBsmtSF    1460 non-null   int64  \n",
      " 33  Heating        1460 non-null   object \n",
      " 34  HeatingQC      1460 non-null   object \n",
      " 35  CentralAir     1460 non-null   object \n",
      " 36  Electrical     1459 non-null   object \n",
      " 37  LowQualFinSF   1460 non-null   int64  \n",
      " 38  GrLivArea      1460 non-null   int64  \n",
      " 39  BsmtFullBath   1460 non-null   int64  \n",
      " 40  BsmtHalfBath   1460 non-null   int64  \n",
      " 41  FullBath       1460 non-null   int64  \n",
      " 42  HalfBath       1460 non-null   int64  \n",
      " 43  BedroomAbvGr   1460 non-null   int64  \n",
      " 44  KitchenAbvGr   1460 non-null   int64  \n",
      " 45  KitchenQual    1460 non-null   object \n",
      " 46  TotRmsAbvGrd   1460 non-null   int64  \n",
      " 47  Functional     1460 non-null   object \n",
      " 48  Fireplaces     1460 non-null   int64  \n",
      " 49  FireplaceQu    770 non-null    object \n",
      " 50  GarageType     1379 non-null   object \n",
      " 51  GarageYrBlt    1379 non-null   float64\n",
      " 52  GarageFinish   1379 non-null   object \n",
      " 53  GarageCars     1460 non-null   int64  \n",
      " 54  GarageCond     1379 non-null   object \n",
      " 55  PavedDrive     1460 non-null   object \n",
      " 56  WoodDeckSF     1460 non-null   int64  \n",
      " 57  OpenPorchSF    1460 non-null   int64  \n",
      " 58  EnclosedPorch  1460 non-null   int64  \n",
      " 59  PoolArea       1460 non-null   int64  \n",
      " 60  Fence          281 non-null    object \n",
      " 61  MoSold         1460 non-null   int64  \n",
      " 62  YrSold         1460 non-null   int64  \n",
      " 63  SaleType       1460 non-null   object \n",
      " 64  SaleCondition  1460 non-null   object \n",
      " 65  SalePrice      1460 non-null   int64  \n",
      "dtypes: float64(3), int64(27), object(36)\n",
      "memory usage: 752.9+ KB\n"
     ]
    }
   ],
   "source": [
    "df.info()"
   ]
  },
  {
   "cell_type": "code",
   "execution_count": 23,
   "id": "e221e351",
   "metadata": {
    "scrolled": true
   },
   "outputs": [
    {
     "data": {
      "text/html": [
       "<div>\n",
       "<style scoped>\n",
       "    .dataframe tbody tr th:only-of-type {\n",
       "        vertical-align: middle;\n",
       "    }\n",
       "\n",
       "    .dataframe tbody tr th {\n",
       "        vertical-align: top;\n",
       "    }\n",
       "\n",
       "    .dataframe thead th {\n",
       "        text-align: right;\n",
       "    }\n",
       "</style>\n",
       "<table border=\"1\" class=\"dataframe\">\n",
       "  <thead>\n",
       "    <tr style=\"text-align: right;\">\n",
       "      <th></th>\n",
       "      <th>MSZoning</th>\n",
       "      <th>LotFrontage</th>\n",
       "      <th>LotArea</th>\n",
       "      <th>Street</th>\n",
       "      <th>LotShape</th>\n",
       "      <th>LandContour</th>\n",
       "      <th>LotConfig</th>\n",
       "      <th>Neighborhood</th>\n",
       "      <th>Condition1</th>\n",
       "      <th>Condition2</th>\n",
       "      <th>...</th>\n",
       "      <th>WoodDeckSF</th>\n",
       "      <th>OpenPorchSF</th>\n",
       "      <th>EnclosedPorch</th>\n",
       "      <th>PoolArea</th>\n",
       "      <th>Fence</th>\n",
       "      <th>MoSold</th>\n",
       "      <th>YrSold</th>\n",
       "      <th>SaleType</th>\n",
       "      <th>SaleCondition</th>\n",
       "      <th>SalePrice</th>\n",
       "    </tr>\n",
       "  </thead>\n",
       "  <tbody>\n",
       "    <tr>\n",
       "      <th>0</th>\n",
       "      <td>RL</td>\n",
       "      <td>65.0</td>\n",
       "      <td>8450</td>\n",
       "      <td>Pave</td>\n",
       "      <td>Reg</td>\n",
       "      <td>Lvl</td>\n",
       "      <td>Inside</td>\n",
       "      <td>CollgCr</td>\n",
       "      <td>Norm</td>\n",
       "      <td>Norm</td>\n",
       "      <td>...</td>\n",
       "      <td>0</td>\n",
       "      <td>61</td>\n",
       "      <td>0</td>\n",
       "      <td>0</td>\n",
       "      <td>NaN</td>\n",
       "      <td>2</td>\n",
       "      <td>2008</td>\n",
       "      <td>WD</td>\n",
       "      <td>Normal</td>\n",
       "      <td>208500</td>\n",
       "    </tr>\n",
       "    <tr>\n",
       "      <th>1</th>\n",
       "      <td>RL</td>\n",
       "      <td>80.0</td>\n",
       "      <td>9600</td>\n",
       "      <td>Pave</td>\n",
       "      <td>Reg</td>\n",
       "      <td>Lvl</td>\n",
       "      <td>FR2</td>\n",
       "      <td>Veenker</td>\n",
       "      <td>Feedr</td>\n",
       "      <td>Norm</td>\n",
       "      <td>...</td>\n",
       "      <td>298</td>\n",
       "      <td>0</td>\n",
       "      <td>0</td>\n",
       "      <td>0</td>\n",
       "      <td>NaN</td>\n",
       "      <td>5</td>\n",
       "      <td>2007</td>\n",
       "      <td>WD</td>\n",
       "      <td>Normal</td>\n",
       "      <td>181500</td>\n",
       "    </tr>\n",
       "    <tr>\n",
       "      <th>2</th>\n",
       "      <td>RL</td>\n",
       "      <td>68.0</td>\n",
       "      <td>11250</td>\n",
       "      <td>Pave</td>\n",
       "      <td>IR1</td>\n",
       "      <td>Lvl</td>\n",
       "      <td>Inside</td>\n",
       "      <td>CollgCr</td>\n",
       "      <td>Norm</td>\n",
       "      <td>Norm</td>\n",
       "      <td>...</td>\n",
       "      <td>0</td>\n",
       "      <td>42</td>\n",
       "      <td>0</td>\n",
       "      <td>0</td>\n",
       "      <td>NaN</td>\n",
       "      <td>9</td>\n",
       "      <td>2008</td>\n",
       "      <td>WD</td>\n",
       "      <td>Normal</td>\n",
       "      <td>223500</td>\n",
       "    </tr>\n",
       "    <tr>\n",
       "      <th>3</th>\n",
       "      <td>RL</td>\n",
       "      <td>60.0</td>\n",
       "      <td>9550</td>\n",
       "      <td>Pave</td>\n",
       "      <td>IR1</td>\n",
       "      <td>Lvl</td>\n",
       "      <td>Corner</td>\n",
       "      <td>Crawfor</td>\n",
       "      <td>Norm</td>\n",
       "      <td>Norm</td>\n",
       "      <td>...</td>\n",
       "      <td>0</td>\n",
       "      <td>35</td>\n",
       "      <td>272</td>\n",
       "      <td>0</td>\n",
       "      <td>NaN</td>\n",
       "      <td>2</td>\n",
       "      <td>2006</td>\n",
       "      <td>WD</td>\n",
       "      <td>Abnorml</td>\n",
       "      <td>140000</td>\n",
       "    </tr>\n",
       "    <tr>\n",
       "      <th>4</th>\n",
       "      <td>RL</td>\n",
       "      <td>84.0</td>\n",
       "      <td>14260</td>\n",
       "      <td>Pave</td>\n",
       "      <td>IR1</td>\n",
       "      <td>Lvl</td>\n",
       "      <td>FR2</td>\n",
       "      <td>NoRidge</td>\n",
       "      <td>Norm</td>\n",
       "      <td>Norm</td>\n",
       "      <td>...</td>\n",
       "      <td>192</td>\n",
       "      <td>84</td>\n",
       "      <td>0</td>\n",
       "      <td>0</td>\n",
       "      <td>NaN</td>\n",
       "      <td>12</td>\n",
       "      <td>2008</td>\n",
       "      <td>WD</td>\n",
       "      <td>Normal</td>\n",
       "      <td>250000</td>\n",
       "    </tr>\n",
       "  </tbody>\n",
       "</table>\n",
       "<p>5 rows × 66 columns</p>\n",
       "</div>"
      ],
      "text/plain": [
       "  MSZoning  LotFrontage  LotArea Street LotShape LandContour LotConfig  \\\n",
       "0       RL         65.0     8450   Pave      Reg         Lvl    Inside   \n",
       "1       RL         80.0     9600   Pave      Reg         Lvl       FR2   \n",
       "2       RL         68.0    11250   Pave      IR1         Lvl    Inside   \n",
       "3       RL         60.0     9550   Pave      IR1         Lvl    Corner   \n",
       "4       RL         84.0    14260   Pave      IR1         Lvl       FR2   \n",
       "\n",
       "  Neighborhood Condition1 Condition2  ... WoodDeckSF OpenPorchSF  \\\n",
       "0      CollgCr       Norm       Norm  ...          0          61   \n",
       "1      Veenker      Feedr       Norm  ...        298           0   \n",
       "2      CollgCr       Norm       Norm  ...          0          42   \n",
       "3      Crawfor       Norm       Norm  ...          0          35   \n",
       "4      NoRidge       Norm       Norm  ...        192          84   \n",
       "\n",
       "   EnclosedPorch  PoolArea  Fence  MoSold YrSold SaleType SaleCondition  \\\n",
       "0              0         0    NaN       2   2008       WD        Normal   \n",
       "1              0         0    NaN       5   2007       WD        Normal   \n",
       "2              0         0    NaN       9   2008       WD        Normal   \n",
       "3            272         0    NaN       2   2006       WD       Abnorml   \n",
       "4              0         0    NaN      12   2008       WD        Normal   \n",
       "\n",
       "  SalePrice  \n",
       "0    208500  \n",
       "1    181500  \n",
       "2    223500  \n",
       "3    140000  \n",
       "4    250000  \n",
       "\n",
       "[5 rows x 66 columns]"
      ]
     },
     "execution_count": 23,
     "metadata": {},
     "output_type": "execute_result"
    }
   ],
   "source": [
    "df.head()"
   ]
  }
 ],
 "metadata": {
  "kernelspec": {
   "display_name": "Python 3 (ipykernel)",
   "language": "python",
   "name": "python3"
  },
  "language_info": {
   "codemirror_mode": {
    "name": "ipython",
    "version": 3
   },
   "file_extension": ".py",
   "mimetype": "text/x-python",
   "name": "python",
   "nbconvert_exporter": "python",
   "pygments_lexer": "ipython3",
   "version": "3.9.15"
  },
  "toc": {
   "base_numbering": 1,
   "nav_menu": {},
   "number_sections": true,
   "sideBar": true,
   "skip_h1_title": false,
   "title_cell": "Table of Contents",
   "title_sidebar": "Contents",
   "toc_cell": false,
   "toc_position": {},
   "toc_section_display": true,
   "toc_window_display": false
  }
 },
 "nbformat": 4,
 "nbformat_minor": 5
}
